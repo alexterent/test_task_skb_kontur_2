{
 "cells": [
  {
   "cell_type": "markdown",
   "metadata": {},
   "source": [
    "# 1. Baseline: tf-idf + Naive Bayes"
   ]
  },
  {
   "cell_type": "code",
   "execution_count": 1,
   "metadata": {
    "collapsed": true
   },
   "outputs": [],
   "source": [
    "import numpy as np\n",
    "import pandas as pd\n",
    "import matplotlib.pyplot as plt"
   ]
  },
  {
   "cell_type": "code",
   "execution_count": 2,
   "metadata": {},
   "outputs": [
    {
     "data": {
      "text/html": [
       "<div>\n",
       "<style scoped>\n",
       "    .dataframe tbody tr th:only-of-type {\n",
       "        vertical-align: middle;\n",
       "    }\n",
       "\n",
       "    .dataframe tbody tr th {\n",
       "        vertical-align: top;\n",
       "    }\n",
       "\n",
       "    .dataframe thead th {\n",
       "        text-align: right;\n",
       "    }\n",
       "</style>\n",
       "<table border=\"1\" class=\"dataframe\">\n",
       "  <thead>\n",
       "    <tr style=\"text-align: right;\">\n",
       "      <th></th>\n",
       "      <th>id</th>\n",
       "      <th>name</th>\n",
       "      <th>tare</th>\n",
       "    </tr>\n",
       "  </thead>\n",
       "  <tbody>\n",
       "    <tr>\n",
       "      <th>0</th>\n",
       "      <td>0</td>\n",
       "      <td>Котлеты МЛМ из говядины 335г</td>\n",
       "      <td>коробка</td>\n",
       "    </tr>\n",
       "    <tr>\n",
       "      <th>1</th>\n",
       "      <td>1</td>\n",
       "      <td>Победа Вкуса конфеты Мишки в лесу 250г(КФ ПОБЕ...</td>\n",
       "      <td>коробка</td>\n",
       "    </tr>\n",
       "    <tr>\n",
       "      <th>2</th>\n",
       "      <td>2</td>\n",
       "      <td>ТВОРОГ (ЮНИМИЛК) \"ПРОСТОКВАШИНО\" ЗЕРНЕНЫЙ 130Г...</td>\n",
       "      <td>стаканчик</td>\n",
       "    </tr>\n",
       "    <tr>\n",
       "      <th>3</th>\n",
       "      <td>3</td>\n",
       "      <td>Сыр Плавленый Веселый Молочник с Грибами 190г ...</td>\n",
       "      <td>контейнер</td>\n",
       "    </tr>\n",
       "    <tr>\n",
       "      <th>4</th>\n",
       "      <td>4</td>\n",
       "      <td>Жевательный мармелад Маша и медведь  буквы 100г</td>\n",
       "      <td>пакет без формы</td>\n",
       "    </tr>\n",
       "  </tbody>\n",
       "</table>\n",
       "</div>"
      ],
      "text/plain": [
       "   id                                               name             tare\n",
       "0   0                       Котлеты МЛМ из говядины 335г          коробка\n",
       "1   1  Победа Вкуса конфеты Мишки в лесу 250г(КФ ПОБЕ...          коробка\n",
       "2   2  ТВОРОГ (ЮНИМИЛК) \"ПРОСТОКВАШИНО\" ЗЕРНЕНЫЙ 130Г...        стаканчик\n",
       "3   3  Сыр Плавленый Веселый Молочник с Грибами 190г ...        контейнер\n",
       "4   4    Жевательный мармелад Маша и медведь  буквы 100г  пакет без формы"
      ]
     },
     "execution_count": 2,
     "metadata": {},
     "output_type": "execute_result"
    }
   ],
   "source": [
    "dataset = pd.read_csv(\"train.csv\")\n",
    "dataset.head()"
   ]
  },
  {
   "cell_type": "markdown",
   "metadata": {},
   "source": [
    "Для начала посмотрим на распределение категорий:"
   ]
  },
  {
   "cell_type": "code",
   "execution_count": 3,
   "metadata": {},
   "outputs": [
    {
     "data": {
      "text/plain": [
       "пакет без формы                   9028\n",
       "бутылка                           7474\n",
       "коробка                           4196\n",
       "пакет прямоугольный               3501\n",
       "обертка                           3217\n",
       "банка неметаллическая             2238\n",
       "стаканчик                         2070\n",
       "банка металлическая               1837\n",
       "вакуумная упаковка                1071\n",
       "усадочная упаковка                 993\n",
       "контейнер                          884\n",
       "пачка                              691\n",
       "лоток                              628\n",
       "туба                               589\n",
       "гофрокороб                         419\n",
       "колбасная оболочка                 396\n",
       "тортница                           324\n",
       "без упаковки                       322\n",
       "упаковка с газовым наполнением     289\n",
       "ведро                              253\n",
       "ячеистая упаковка                  228\n",
       "Name: tare, dtype: int64"
      ]
     },
     "execution_count": 3,
     "metadata": {},
     "output_type": "execute_result"
    }
   ],
   "source": [
    "dataset[\"tare\"].value_counts()"
   ]
  },
  {
   "cell_type": "markdown",
   "metadata": {},
   "source": [
    "Распределение далеко от равномерного, поэтому важно использовать `stratify` для `train_test_split` и кросс-валидации"
   ]
  },
  {
   "cell_type": "code",
   "execution_count": 4,
   "metadata": {
    "collapsed": true
   },
   "outputs": [],
   "source": [
    "from sklearn.model_selection import train_test_split\n",
    "\n",
    "train_part, test_part = train_test_split(dataset, test_size=0.2, random_state=0, stratify=dataset[\"tare\"])"
   ]
  },
  {
   "cell_type": "code",
   "execution_count": 5,
   "metadata": {},
   "outputs": [
    {
     "data": {
      "text/plain": [
       "0.7124231242312423"
      ]
     },
     "execution_count": 5,
     "metadata": {},
     "output_type": "execute_result"
    }
   ],
   "source": [
    "from sklearn.feature_extraction.text import TfidfVectorizer\n",
    "from sklearn.naive_bayes import MultinomialNB\n",
    "from sklearn.pipeline import Pipeline\n",
    "\n",
    "pipeline_tfidf_nb = Pipeline([('tfidf', TfidfVectorizer()),\n",
    "                              ('nb', MultinomialNB())])\n",
    "\n",
    "pipeline_tfidf_nb.fit(train_part[\"name\"], train_part[\"tare\"])\n",
    "\n",
    "predicted = pipeline_tfidf_nb.predict(test_part[\"name\"])\n",
    "np.mean(predicted == test_part[\"tare\"])"
   ]
  },
  {
   "cell_type": "markdown",
   "metadata": {},
   "source": [
    "Для начала неплохо, но даже из Naive Bayes можно выжать гораздо больше, подобрав правильные гиперпараметры.\n",
    "Применим для этого Grid Search с кросс-валидацией:"
   ]
  },
  {
   "cell_type": "code",
   "execution_count": 6,
   "metadata": {},
   "outputs": [
    {
     "name": "stdout",
     "output_type": "stream",
     "text": [
      "Fitting 5 folds for each of 20 candidates, totalling 100 fits\n"
     ]
    },
    {
     "name": "stderr",
     "output_type": "stream",
     "text": [
      "[Parallel(n_jobs=-1)]: Done   5 tasks      | elapsed:    6.0s\n",
      "[Parallel(n_jobs=-1)]: Done  10 tasks      | elapsed:    8.5s\n",
      "[Parallel(n_jobs=-1)]: Done  17 tasks      | elapsed:   18.0s\n",
      "[Parallel(n_jobs=-1)]: Done  24 tasks      | elapsed:   23.1s\n",
      "[Parallel(n_jobs=-1)]: Done  33 tasks      | elapsed:   30.5s\n",
      "[Parallel(n_jobs=-1)]: Done  42 tasks      | elapsed:   38.2s\n",
      "[Parallel(n_jobs=-1)]: Done  53 tasks      | elapsed:   46.5s\n",
      "[Parallel(n_jobs=-1)]: Done  64 tasks      | elapsed:   54.6s\n",
      "[Parallel(n_jobs=-1)]: Done  77 tasks      | elapsed:  1.1min\n",
      "[Parallel(n_jobs=-1)]: Done  90 tasks      | elapsed:  1.2min\n",
      "[Parallel(n_jobs=-1)]: Done 100 out of 100 | elapsed:  1.4min finished\n",
      "C:\\Users\\mrand\\Anaconda3\\lib\\site-packages\\sklearn\\naive_bayes.py:472: UserWarning: alpha too small will result in numeric errors, setting alpha = 1.0e-10\n",
      "  'setting alpha = %.1e' % _ALPHA_MIN)\n"
     ]
    }
   ],
   "source": [
    "from sklearn.model_selection import GridSearchCV\n",
    "\n",
    "parameters_nb = {'tfidf__ngram_range': [(1, 1), (1, 2)],\n",
    "                 'tfidf__use_idf': (True, False),\n",
    "                 'nb__alpha': (1.0, 1e-1, 1e-2, 1e-3, 0),\n",
    "                 }\n",
    "\n",
    "gs_nb = GridSearchCV(pipeline_tfidf_nb, parameters_nb, scoring=\"accuracy\", n_jobs=-1, cv=5, verbose=10,\n",
    "                     return_train_score=True)\n",
    "gs_nb = gs_nb.fit(dataset[\"name\"], dataset[\"tare\"])\n"
   ]
  },
  {
   "cell_type": "code",
   "execution_count": 7,
   "metadata": {},
   "outputs": [
    {
     "data": {
      "text/plain": [
       "0.8654054320015745"
      ]
     },
     "execution_count": 7,
     "metadata": {},
     "output_type": "execute_result"
    }
   ],
   "source": [
    "gs_nb.best_score_"
   ]
  },
  {
   "cell_type": "code",
   "execution_count": 8,
   "metadata": {},
   "outputs": [
    {
     "data": {
      "text/html": [
       "<div>\n",
       "<style scoped>\n",
       "    .dataframe tbody tr th:only-of-type {\n",
       "        vertical-align: middle;\n",
       "    }\n",
       "\n",
       "    .dataframe tbody tr th {\n",
       "        vertical-align: top;\n",
       "    }\n",
       "\n",
       "    .dataframe thead th {\n",
       "        text-align: right;\n",
       "    }\n",
       "</style>\n",
       "<table border=\"1\" class=\"dataframe\">\n",
       "  <thead>\n",
       "    <tr style=\"text-align: right;\">\n",
       "      <th></th>\n",
       "      <th>mean_test_score</th>\n",
       "      <th>param_tfidf__ngram_range</th>\n",
       "      <th>param_tfidf__use_idf</th>\n",
       "      <th>param_nb__alpha</th>\n",
       "    </tr>\n",
       "  </thead>\n",
       "  <tbody>\n",
       "    <tr>\n",
       "      <th>19</th>\n",
       "      <td>0.865405</td>\n",
       "      <td>(1, 2)</td>\n",
       "      <td>False</td>\n",
       "      <td>0</td>\n",
       "    </tr>\n",
       "    <tr>\n",
       "      <th>10</th>\n",
       "      <td>0.864298</td>\n",
       "      <td>(1, 2)</td>\n",
       "      <td>True</td>\n",
       "      <td>0.01</td>\n",
       "    </tr>\n",
       "    <tr>\n",
       "      <th>14</th>\n",
       "      <td>0.864077</td>\n",
       "      <td>(1, 2)</td>\n",
       "      <td>True</td>\n",
       "      <td>0.001</td>\n",
       "    </tr>\n",
       "    <tr>\n",
       "      <th>18</th>\n",
       "      <td>0.863339</td>\n",
       "      <td>(1, 2)</td>\n",
       "      <td>True</td>\n",
       "      <td>0</td>\n",
       "    </tr>\n",
       "    <tr>\n",
       "      <th>15</th>\n",
       "      <td>0.863265</td>\n",
       "      <td>(1, 2)</td>\n",
       "      <td>False</td>\n",
       "      <td>0.001</td>\n",
       "    </tr>\n",
       "    <tr>\n",
       "      <th>11</th>\n",
       "      <td>0.859919</td>\n",
       "      <td>(1, 2)</td>\n",
       "      <td>False</td>\n",
       "      <td>0.01</td>\n",
       "    </tr>\n",
       "    <tr>\n",
       "      <th>6</th>\n",
       "      <td>0.843486</td>\n",
       "      <td>(1, 2)</td>\n",
       "      <td>True</td>\n",
       "      <td>0.1</td>\n",
       "    </tr>\n",
       "    <tr>\n",
       "      <th>8</th>\n",
       "      <td>0.828651</td>\n",
       "      <td>(1, 1)</td>\n",
       "      <td>True</td>\n",
       "      <td>0.01</td>\n",
       "    </tr>\n",
       "    <tr>\n",
       "      <th>12</th>\n",
       "      <td>0.827273</td>\n",
       "      <td>(1, 1)</td>\n",
       "      <td>True</td>\n",
       "      <td>0.001</td>\n",
       "    </tr>\n",
       "    <tr>\n",
       "      <th>13</th>\n",
       "      <td>0.826215</td>\n",
       "      <td>(1, 1)</td>\n",
       "      <td>False</td>\n",
       "      <td>0.001</td>\n",
       "    </tr>\n",
       "    <tr>\n",
       "      <th>7</th>\n",
       "      <td>0.825526</td>\n",
       "      <td>(1, 2)</td>\n",
       "      <td>False</td>\n",
       "      <td>0.1</td>\n",
       "    </tr>\n",
       "    <tr>\n",
       "      <th>9</th>\n",
       "      <td>0.823288</td>\n",
       "      <td>(1, 1)</td>\n",
       "      <td>False</td>\n",
       "      <td>0.01</td>\n",
       "    </tr>\n",
       "    <tr>\n",
       "      <th>17</th>\n",
       "      <td>0.822919</td>\n",
       "      <td>(1, 1)</td>\n",
       "      <td>False</td>\n",
       "      <td>0</td>\n",
       "    </tr>\n",
       "    <tr>\n",
       "      <th>16</th>\n",
       "      <td>0.821295</td>\n",
       "      <td>(1, 1)</td>\n",
       "      <td>True</td>\n",
       "      <td>0</td>\n",
       "    </tr>\n",
       "    <tr>\n",
       "      <th>4</th>\n",
       "      <td>0.816941</td>\n",
       "      <td>(1, 1)</td>\n",
       "      <td>True</td>\n",
       "      <td>0.1</td>\n",
       "    </tr>\n",
       "    <tr>\n",
       "      <th>5</th>\n",
       "      <td>0.802524</td>\n",
       "      <td>(1, 1)</td>\n",
       "      <td>False</td>\n",
       "      <td>0.1</td>\n",
       "    </tr>\n",
       "    <tr>\n",
       "      <th>0</th>\n",
       "      <td>0.712852</td>\n",
       "      <td>(1, 1)</td>\n",
       "      <td>True</td>\n",
       "      <td>1</td>\n",
       "    </tr>\n",
       "    <tr>\n",
       "      <th>2</th>\n",
       "      <td>0.692113</td>\n",
       "      <td>(1, 2)</td>\n",
       "      <td>True</td>\n",
       "      <td>1</td>\n",
       "    </tr>\n",
       "    <tr>\n",
       "      <th>1</th>\n",
       "      <td>0.684708</td>\n",
       "      <td>(1, 1)</td>\n",
       "      <td>False</td>\n",
       "      <td>1</td>\n",
       "    </tr>\n",
       "    <tr>\n",
       "      <th>3</th>\n",
       "      <td>0.669381</td>\n",
       "      <td>(1, 2)</td>\n",
       "      <td>False</td>\n",
       "      <td>1</td>\n",
       "    </tr>\n",
       "  </tbody>\n",
       "</table>\n",
       "</div>"
      ],
      "text/plain": [
       "    mean_test_score param_tfidf__ngram_range param_tfidf__use_idf  \\\n",
       "19         0.865405                   (1, 2)                False   \n",
       "10         0.864298                   (1, 2)                 True   \n",
       "14         0.864077                   (1, 2)                 True   \n",
       "18         0.863339                   (1, 2)                 True   \n",
       "15         0.863265                   (1, 2)                False   \n",
       "11         0.859919                   (1, 2)                False   \n",
       "6          0.843486                   (1, 2)                 True   \n",
       "8          0.828651                   (1, 1)                 True   \n",
       "12         0.827273                   (1, 1)                 True   \n",
       "13         0.826215                   (1, 1)                False   \n",
       "7          0.825526                   (1, 2)                False   \n",
       "9          0.823288                   (1, 1)                False   \n",
       "17         0.822919                   (1, 1)                False   \n",
       "16         0.821295                   (1, 1)                 True   \n",
       "4          0.816941                   (1, 1)                 True   \n",
       "5          0.802524                   (1, 1)                False   \n",
       "0          0.712852                   (1, 1)                 True   \n",
       "2          0.692113                   (1, 2)                 True   \n",
       "1          0.684708                   (1, 1)                False   \n",
       "3          0.669381                   (1, 2)                False   \n",
       "\n",
       "   param_nb__alpha  \n",
       "19               0  \n",
       "10            0.01  \n",
       "14           0.001  \n",
       "18               0  \n",
       "15           0.001  \n",
       "11            0.01  \n",
       "6              0.1  \n",
       "8             0.01  \n",
       "12           0.001  \n",
       "13           0.001  \n",
       "7              0.1  \n",
       "9             0.01  \n",
       "17               0  \n",
       "16               0  \n",
       "4              0.1  \n",
       "5              0.1  \n",
       "0                1  \n",
       "2                1  \n",
       "1                1  \n",
       "3                1  "
      ]
     },
     "execution_count": 8,
     "metadata": {},
     "output_type": "execute_result"
    }
   ],
   "source": [
    "pd.DataFrame(gs_nb.cv_results_)[[\"mean_test_score\",\n",
    "                                 \"param_tfidf__ngram_range\",\n",
    "                                 \"param_tfidf__use_idf\",\n",
    "                                 \"param_nb__alpha\"]].sort_values(by=[\"mean_test_score\"], ascending=False)"
   ]
  },
  {
   "cell_type": "markdown",
   "metadata": {},
   "source": [
    "Уже гораздо лучше. Ключевыми оказались\n",
    "* использование n-грамм\n",
    "* правильный подбор `alpha` (additive smoothing parameter) для MultinomialNB"
   ]
  },
  {
   "cell_type": "markdown",
   "metadata": {},
   "source": [
    "# 2. SVM"
   ]
  },
  {
   "cell_type": "markdown",
   "metadata": {},
   "source": [
    "Время попробовать еще одну популярную модель для классификации текста - SVM, которая зачастую считается более \"емкой\""
   ]
  },
  {
   "cell_type": "code",
   "execution_count": 9,
   "metadata": {
    "collapsed": true
   },
   "outputs": [
    {
     "name": "stdout",
     "output_type": "stream",
     "text": [
      "Fitting 5 folds for each of 24 candidates, totalling 120 fits\n"
     ]
    },
    {
     "name": "stderr",
     "output_type": "stream",
     "text": [
      "[Parallel(n_jobs=-1)]: Done   5 tasks      | elapsed:    9.2s\n",
      "[Parallel(n_jobs=-1)]: Done  10 tasks      | elapsed:   14.5s\n",
      "[Parallel(n_jobs=-1)]: Done  17 tasks      | elapsed:   28.8s\n",
      "[Parallel(n_jobs=-1)]: Done  24 tasks      | elapsed:   38.5s\n",
      "[Parallel(n_jobs=-1)]: Done  33 tasks      | elapsed:   51.8s\n",
      "[Parallel(n_jobs=-1)]: Done  42 tasks      | elapsed:  1.1min\n",
      "[Parallel(n_jobs=-1)]: Done  53 tasks      | elapsed:  1.4min\n",
      "[Parallel(n_jobs=-1)]: Done  64 tasks      | elapsed:  1.7min\n",
      "[Parallel(n_jobs=-1)]: Done  77 tasks      | elapsed:  2.0min\n",
      "[Parallel(n_jobs=-1)]: Done  90 tasks      | elapsed:  2.3min\n",
      "[Parallel(n_jobs=-1)]: Done 105 tasks      | elapsed:  2.7min\n",
      "[Parallel(n_jobs=-1)]: Done 120 out of 120 | elapsed:  3.1min finished\n"
     ]
    }
   ],
   "source": [
    "from sklearn.linear_model import SGDClassifier\n",
    "\n",
    "pipeline_tfidf_svm = Pipeline([('tfidf', TfidfVectorizer()),\n",
    "                               ('svm', SGDClassifier(loss='hinge', penalty='l2', alpha=0.00001,\n",
    "                                                     random_state=0, max_iter=15, class_weight=None)),\n",
    "                               ])\n",
    "\n",
    "parameters_svm = {'tfidf__ngram_range': [(1, 1), (1, 2)],\n",
    "                  'tfidf__use_idf': (True, False),\n",
    "                  'svm__alpha': (1e-4, 1e-5, 1e-6),\n",
    "                  'svm__class_weight': (None, \"balanced\")\n",
    "                  }\n",
    "\n",
    "gs_svm = GridSearchCV(pipeline_tfidf_svm, parameters_svm, scoring=\"accuracy\", n_jobs=-1, cv=5, verbose=10,\n",
    "                      return_train_score=True)\n",
    "gs_svm = gs_svm.fit(dataset[\"name\"], dataset[\"tare\"])\n"
   ]
  },
  {
   "cell_type": "code",
   "execution_count": 10,
   "metadata": {},
   "outputs": [
    {
     "data": {
      "text/plain": [
       "0.8817407990553041"
      ]
     },
     "execution_count": 10,
     "metadata": {},
     "output_type": "execute_result"
    }
   ],
   "source": [
    "gs_svm.best_score_"
   ]
  },
  {
   "cell_type": "code",
   "execution_count": 11,
   "metadata": {},
   "outputs": [
    {
     "data": {
      "text/html": [
       "<div>\n",
       "<style scoped>\n",
       "    .dataframe tbody tr th:only-of-type {\n",
       "        vertical-align: middle;\n",
       "    }\n",
       "\n",
       "    .dataframe tbody tr th {\n",
       "        vertical-align: top;\n",
       "    }\n",
       "\n",
       "    .dataframe thead th {\n",
       "        text-align: right;\n",
       "    }\n",
       "</style>\n",
       "<table border=\"1\" class=\"dataframe\">\n",
       "  <thead>\n",
       "    <tr style=\"text-align: right;\">\n",
       "      <th></th>\n",
       "      <th>mean_test_score</th>\n",
       "      <th>param_tfidf__ngram_range</th>\n",
       "      <th>param_tfidf__use_idf</th>\n",
       "      <th>param_svm__alpha</th>\n",
       "      <th>param_svm__class_weight</th>\n",
       "    </tr>\n",
       "  </thead>\n",
       "  <tbody>\n",
       "    <tr>\n",
       "      <th>10</th>\n",
       "      <td>0.881741</td>\n",
       "      <td>(1, 2)</td>\n",
       "      <td>True</td>\n",
       "      <td>1e-05</td>\n",
       "      <td>None</td>\n",
       "    </tr>\n",
       "    <tr>\n",
       "      <th>11</th>\n",
       "      <td>0.878616</td>\n",
       "      <td>(1, 2)</td>\n",
       "      <td>False</td>\n",
       "      <td>1e-05</td>\n",
       "      <td>None</td>\n",
       "    </tr>\n",
       "    <tr>\n",
       "      <th>18</th>\n",
       "      <td>0.876402</td>\n",
       "      <td>(1, 2)</td>\n",
       "      <td>True</td>\n",
       "      <td>1e-06</td>\n",
       "      <td>None</td>\n",
       "    </tr>\n",
       "    <tr>\n",
       "      <th>14</th>\n",
       "      <td>0.874237</td>\n",
       "      <td>(1, 2)</td>\n",
       "      <td>True</td>\n",
       "      <td>1e-05</td>\n",
       "      <td>balanced</td>\n",
       "    </tr>\n",
       "    <tr>\n",
       "      <th>19</th>\n",
       "      <td>0.872171</td>\n",
       "      <td>(1, 2)</td>\n",
       "      <td>False</td>\n",
       "      <td>1e-06</td>\n",
       "      <td>None</td>\n",
       "    </tr>\n",
       "    <tr>\n",
       "      <th>22</th>\n",
       "      <td>0.871433</td>\n",
       "      <td>(1, 2)</td>\n",
       "      <td>True</td>\n",
       "      <td>1e-06</td>\n",
       "      <td>balanced</td>\n",
       "    </tr>\n",
       "    <tr>\n",
       "      <th>23</th>\n",
       "      <td>0.870277</td>\n",
       "      <td>(1, 2)</td>\n",
       "      <td>False</td>\n",
       "      <td>1e-06</td>\n",
       "      <td>balanced</td>\n",
       "    </tr>\n",
       "    <tr>\n",
       "      <th>15</th>\n",
       "      <td>0.866857</td>\n",
       "      <td>(1, 2)</td>\n",
       "      <td>False</td>\n",
       "      <td>1e-05</td>\n",
       "      <td>balanced</td>\n",
       "    </tr>\n",
       "    <tr>\n",
       "      <th>8</th>\n",
       "      <td>0.865332</td>\n",
       "      <td>(1, 1)</td>\n",
       "      <td>True</td>\n",
       "      <td>1e-05</td>\n",
       "      <td>None</td>\n",
       "    </tr>\n",
       "    <tr>\n",
       "      <th>9</th>\n",
       "      <td>0.859304</td>\n",
       "      <td>(1, 1)</td>\n",
       "      <td>False</td>\n",
       "      <td>1e-05</td>\n",
       "      <td>None</td>\n",
       "    </tr>\n",
       "    <tr>\n",
       "      <th>16</th>\n",
       "      <td>0.851850</td>\n",
       "      <td>(1, 1)</td>\n",
       "      <td>True</td>\n",
       "      <td>1e-06</td>\n",
       "      <td>None</td>\n",
       "    </tr>\n",
       "    <tr>\n",
       "      <th>17</th>\n",
       "      <td>0.851825</td>\n",
       "      <td>(1, 1)</td>\n",
       "      <td>False</td>\n",
       "      <td>1e-06</td>\n",
       "      <td>None</td>\n",
       "    </tr>\n",
       "    <tr>\n",
       "      <th>12</th>\n",
       "      <td>0.850768</td>\n",
       "      <td>(1, 1)</td>\n",
       "      <td>True</td>\n",
       "      <td>1e-05</td>\n",
       "      <td>balanced</td>\n",
       "    </tr>\n",
       "    <tr>\n",
       "      <th>20</th>\n",
       "      <td>0.849513</td>\n",
       "      <td>(1, 1)</td>\n",
       "      <td>True</td>\n",
       "      <td>1e-06</td>\n",
       "      <td>balanced</td>\n",
       "    </tr>\n",
       "    <tr>\n",
       "      <th>21</th>\n",
       "      <td>0.846807</td>\n",
       "      <td>(1, 1)</td>\n",
       "      <td>False</td>\n",
       "      <td>1e-06</td>\n",
       "      <td>balanced</td>\n",
       "    </tr>\n",
       "    <tr>\n",
       "      <th>13</th>\n",
       "      <td>0.840902</td>\n",
       "      <td>(1, 1)</td>\n",
       "      <td>False</td>\n",
       "      <td>1e-05</td>\n",
       "      <td>balanced</td>\n",
       "    </tr>\n",
       "    <tr>\n",
       "      <th>2</th>\n",
       "      <td>0.831603</td>\n",
       "      <td>(1, 2)</td>\n",
       "      <td>True</td>\n",
       "      <td>0.0001</td>\n",
       "      <td>None</td>\n",
       "    </tr>\n",
       "    <tr>\n",
       "      <th>0</th>\n",
       "      <td>0.819155</td>\n",
       "      <td>(1, 1)</td>\n",
       "      <td>True</td>\n",
       "      <td>0.0001</td>\n",
       "      <td>None</td>\n",
       "    </tr>\n",
       "    <tr>\n",
       "      <th>3</th>\n",
       "      <td>0.816326</td>\n",
       "      <td>(1, 2)</td>\n",
       "      <td>False</td>\n",
       "      <td>0.0001</td>\n",
       "      <td>None</td>\n",
       "    </tr>\n",
       "    <tr>\n",
       "      <th>1</th>\n",
       "      <td>0.801835</td>\n",
       "      <td>(1, 1)</td>\n",
       "      <td>False</td>\n",
       "      <td>0.0001</td>\n",
       "      <td>None</td>\n",
       "    </tr>\n",
       "    <tr>\n",
       "      <th>6</th>\n",
       "      <td>0.797997</td>\n",
       "      <td>(1, 2)</td>\n",
       "      <td>True</td>\n",
       "      <td>0.0001</td>\n",
       "      <td>balanced</td>\n",
       "    </tr>\n",
       "    <tr>\n",
       "      <th>4</th>\n",
       "      <td>0.786017</td>\n",
       "      <td>(1, 1)</td>\n",
       "      <td>True</td>\n",
       "      <td>0.0001</td>\n",
       "      <td>balanced</td>\n",
       "    </tr>\n",
       "    <tr>\n",
       "      <th>7</th>\n",
       "      <td>0.783433</td>\n",
       "      <td>(1, 2)</td>\n",
       "      <td>False</td>\n",
       "      <td>0.0001</td>\n",
       "      <td>balanced</td>\n",
       "    </tr>\n",
       "    <tr>\n",
       "      <th>5</th>\n",
       "      <td>0.768869</td>\n",
       "      <td>(1, 1)</td>\n",
       "      <td>False</td>\n",
       "      <td>0.0001</td>\n",
       "      <td>balanced</td>\n",
       "    </tr>\n",
       "  </tbody>\n",
       "</table>\n",
       "</div>"
      ],
      "text/plain": [
       "    mean_test_score param_tfidf__ngram_range param_tfidf__use_idf  \\\n",
       "10         0.881741                   (1, 2)                 True   \n",
       "11         0.878616                   (1, 2)                False   \n",
       "18         0.876402                   (1, 2)                 True   \n",
       "14         0.874237                   (1, 2)                 True   \n",
       "19         0.872171                   (1, 2)                False   \n",
       "22         0.871433                   (1, 2)                 True   \n",
       "23         0.870277                   (1, 2)                False   \n",
       "15         0.866857                   (1, 2)                False   \n",
       "8          0.865332                   (1, 1)                 True   \n",
       "9          0.859304                   (1, 1)                False   \n",
       "16         0.851850                   (1, 1)                 True   \n",
       "17         0.851825                   (1, 1)                False   \n",
       "12         0.850768                   (1, 1)                 True   \n",
       "20         0.849513                   (1, 1)                 True   \n",
       "21         0.846807                   (1, 1)                False   \n",
       "13         0.840902                   (1, 1)                False   \n",
       "2          0.831603                   (1, 2)                 True   \n",
       "0          0.819155                   (1, 1)                 True   \n",
       "3          0.816326                   (1, 2)                False   \n",
       "1          0.801835                   (1, 1)                False   \n",
       "6          0.797997                   (1, 2)                 True   \n",
       "4          0.786017                   (1, 1)                 True   \n",
       "7          0.783433                   (1, 2)                False   \n",
       "5          0.768869                   (1, 1)                False   \n",
       "\n",
       "   param_svm__alpha param_svm__class_weight  \n",
       "10            1e-05                    None  \n",
       "11            1e-05                    None  \n",
       "18            1e-06                    None  \n",
       "14            1e-05                balanced  \n",
       "19            1e-06                    None  \n",
       "22            1e-06                balanced  \n",
       "23            1e-06                balanced  \n",
       "15            1e-05                balanced  \n",
       "8             1e-05                    None  \n",
       "9             1e-05                    None  \n",
       "16            1e-06                    None  \n",
       "17            1e-06                    None  \n",
       "12            1e-05                balanced  \n",
       "20            1e-06                balanced  \n",
       "21            1e-06                balanced  \n",
       "13            1e-05                balanced  \n",
       "2            0.0001                    None  \n",
       "0            0.0001                    None  \n",
       "3            0.0001                    None  \n",
       "1            0.0001                    None  \n",
       "6            0.0001                balanced  \n",
       "4            0.0001                balanced  \n",
       "7            0.0001                balanced  \n",
       "5            0.0001                balanced  "
      ]
     },
     "execution_count": 11,
     "metadata": {},
     "output_type": "execute_result"
    }
   ],
   "source": [
    "pd.DataFrame(gs_svm.cv_results_)[[\"mean_test_score\",\n",
    "                                  \"param_tfidf__ngram_range\",\n",
    "                                  \"param_tfidf__use_idf\",\n",
    "                                  \"param_svm__alpha\",\n",
    "                                  \"param_svm__class_weight\"]].sort_values(by=[\"mean_test_score\"], ascending=False)\n"
   ]
  },
  {
   "cell_type": "markdown",
   "metadata": {},
   "source": [
    "Опять же важно использование n-грамм а также правильный выбор коэффициента регуляризации (`alpha`)"
   ]
  },
  {
   "cell_type": "markdown",
   "metadata": {},
   "source": [
    "Похоже мы вплотную приблизились к ограничениям самих данных (и их представления).\n",
    "На самом деле, названия товаров зачастую очень \"грязные\", и им не помешал бы препроцессинг"
   ]
  },
  {
   "cell_type": "markdown",
   "metadata": {},
   "source": [
    "# 3. Очистка данных и препроцессинг"
   ]
  },
  {
   "cell_type": "markdown",
   "metadata": {},
   "source": [
    "Для начала как работает встроенный tokenizer, который используется в `TfidfVectorizer`:\n",
    "1. Пунктуация не воспринимается (запятые, точки, слэши... используются как разделители наравне с пробелами)\n",
    "2. Используется `token_pattern=r\"(?u)\\b\\w\\w+\\b\"` то есть воспринимаются только токены от 2х символов\n",
    "\n",
    "Это приводит например к тому, что обозначение **ж/б**, которое явно указывает (в подавляющем большинстве случаев) на тару *банка металлическая*, после стандартного tokenizer'а просто исчезает. Кроме того, возникают проблемы с вещественными числами (у которых разделители точки и запятые).\n",
    "\n",
    "\n",
    "### Что бросается в глаза в самих названиях:\n",
    "1. Присутствие как точек так и запятых в качестве разделителей для вещественных чисел (**12.5** vs **12,5**)\n",
    "2. Различные форматы для веса, объема, процентов:\n",
    "    * **0.5кг**, **0.5 кг**, **500г**, **500 г**, **500гр**, **500 гр**\n",
    "    * **0.5л**, **0.5 л**, **500мл**, **500 мл**\n",
    "    * **0.5%**, **0.5 %**\n",
    "3. Обратный слэш \"**\\\\**\" вместо прямого: **ж\\б** vs **ж/б**\n",
    "4. **ЗефирДляДесертов125г** - camelCase вместо пробелов (стандартный tokenizer воспринимает это как один токен)\n",
    "5. **1.8\\*20** vs **1.8х20** (русская \"**х**\") vs **1.8x20** (латинская \"**x**\")"
   ]
  },
  {
   "cell_type": "markdown",
   "metadata": {},
   "source": [
    "Напишем фунцию `cleanse_product_name`, которая принимает название товара и возвращает его очищенную версию:"
   ]
  },
  {
   "cell_type": "code",
   "execution_count": 12,
   "metadata": {
    "collapsed": true
   },
   "outputs": [],
   "source": [
    "import re\n",
    "\n",
    "# переходы \"aA\", \"Aa\" (но не в начале слова), \"a9\", \"A9\", \"9a\", \"9A\"\n",
    "camel_case_re = re.compile(r\"((?<=[а-я])[А-Я]|(?<!\\b)[А-Я](?=[а-я])|(?<=[А-Яа-я])[0-9]|(?<=[0-9])[А-Яа-я])\")\n",
    "\n",
    "# русская и латинская \"x\" между числами\n",
    "times_re = re.compile(r\"(?<=[0-9])[хХxX](?=[0-9])\")\n",
    "\n",
    "# string.punctuation без [.,%] но с [«»]\n",
    "redundant_punctuation_re = re.compile(r'[!\"#$&\\'()*+\\-/:;<=>?@\\[\\\\\\]^_`{|}~«»]')\n",
    "\n",
    "# Для различных форматов веса, объема и процентов\n",
    "weight_re = re.compile(r\"(?P<number>[0-9]+([.][0-9]+)?)[ ]*(?P<units>(гр?|кг))\")\n",
    "volume_re = re.compile(r\"(?P<number>[0-9]+([.][0-9]+)?)[ ]*(?P<units>(м?л))\")\n",
    "percent_re = re.compile(r\"(?P<number>[0-9]+([.][0-9]+)?)[ ]*(?P<units>(%))\")\n",
    "\n",
    "dots_but_not_inside_numbers_re = re.compile(r\"(?<![0-9])\\.|\\.(?![0-9])\")\n",
    "\n",
    "redundant_slashes_re = re.compile(r\"(?<= )/|(?<=\\A)/|/(?= )|/(?=\\Z)\")\n",
    "\n",
    "\n",
    "# \"0.5кг\", \"0.5 кг\", \"500г\", \"500 г\", \"500гр\", \"500 гр\" -> \" 500 гр \"\n",
    "def format_weight_value(match_object):\n",
    "    number = float(match_object.group(\"number\"))\n",
    "    units = match_object.group(\"units\")\n",
    "\n",
    "    if units == \"кг\":\n",
    "        number *= 1000\n",
    "\n",
    "    number = int(round(number))\n",
    "    return \" \" + str(number) + \" гр \"\n",
    "\n",
    "\n",
    "# \"0.5л\", \"0.5 л\", \"500мл\", \"500 мл\" -> \" 0.5 л \"\n",
    "def format_volume_value(match_object):\n",
    "    number = float(match_object.group(\"number\"))\n",
    "    units = match_object.group(\"units\")\n",
    "\n",
    "    if units == \"мл\":\n",
    "        number /= 1000\n",
    "    return \" \" + str(number).rstrip('0').rstrip('.') + \" л \"\n",
    "\n",
    "\n",
    "# \"0.5%\", \"0.5 %\" -> \" 0.5 % \"\n",
    "def format_percent_value(match_object):\n",
    "    number = float(match_object.group(\"number\"))\n",
    "    return \" \" + str(number).rstrip('0').rstrip('.') + \" % \"\n",
    "\n",
    "\n",
    "\n",
    "def cleanse_product_name(name: str):\n",
    "    name = name.replace(\"ё\", \"е\")\n",
    "    name = name.replace(\"Ё\", \"Е\")\n",
    "\n",
    "    # \"1.8x20\" -> \"1.8*20\"\n",
    "    name = re.sub(times_re, \"*\", name)\n",
    "\n",
    "    # Заменить camelCase на разделение пробелами\n",
    "    # Example: \"ЗефирДляДесертов125г\" -> \"Зефир Для Десертов 125 г\"\n",
    "    name = re.sub(camel_case_re, r' \\1', name)\n",
    "\n",
    "    # Теперь у заглавных букв нет пользы\n",
    "    name = name.lower()\n",
    "\n",
    "    # Убрать пунктуацию кроме . , %\n",
    "    name = re.sub(redundant_punctuation_re, \" \", name)\n",
    "\n",
    "    # Чтобы не возиться с запятыми в вещественных числах\n",
    "    name = name.replace(\",\", \".\")\n",
    "\n",
    "    name = re.sub(weight_re, format_weight_value, name)\n",
    "    name = re.sub(volume_re, format_volume_value, name)\n",
    "    name = re.sub(percent_re, format_percent_value, name)\n",
    "\n",
    "    # удалить \".\" если не внутри вещественного числа\n",
    "    name = re.sub(dots_but_not_inside_numbers_re, \" \", name)\n",
    "\n",
    "    return name\n"
   ]
  },
  {
   "cell_type": "markdown",
   "metadata": {},
   "source": [
    "Сделаем препроцессинг функцией `cleanse_product_name` для всего dataset'а:"
   ]
  },
  {
   "cell_type": "code",
   "execution_count": 13,
   "metadata": {
    "collapsed": true
   },
   "outputs": [],
   "source": [
    "dataset_names_cleansed = dataset[\"name\"].apply(cleanse_product_name)"
   ]
  },
  {
   "cell_type": "markdown",
   "metadata": {},
   "source": [
    "Снова протестируем SVM (с лучшими найденными гиперпараметрами), но уже на очищенных данных. Необходимо изменить `token_pattern` на `r\"(?u)\\b\\w+\\b\"`, чтобы он учитывал однобуквенные токены.\n",
    "\n",
    "\"**ж/б**\" (и \"**ж\\б**\") превратятся в \"**ж б**\" и захватятся соответствующей 2-граммой"
   ]
  },
  {
   "cell_type": "code",
   "execution_count": 14,
   "metadata": {},
   "outputs": [
    {
     "data": {
      "text/plain": [
       "0.8963548708888075"
      ]
     },
     "execution_count": 14,
     "metadata": {},
     "output_type": "execute_result"
    }
   ],
   "source": [
    "from sklearn.model_selection import cross_val_score\n",
    "from sklearn.feature_extraction.text import TfidfVectorizer\n",
    "from sklearn.linear_model import SGDClassifier\n",
    "from sklearn.pipeline import Pipeline\n",
    "\n",
    "pipeline_tfidf_svm = Pipeline([('tfidf', TfidfVectorizer(ngram_range=(1, 2),\n",
    "                                                         token_pattern=r\"(?u)\\b\\w+\\b\",\n",
    "                                                         use_idf=True)),\n",
    "                               ('svm', SGDClassifier(loss='hinge', penalty='l2', alpha=0.00001,\n",
    "                                                     random_state=0, max_iter=15, class_weight=None)),\n",
    "                               ])\n",
    "\n",
    "cross_val_score(pipeline_tfidf_svm, dataset_names_cleansed, dataset[\"tare\"], scoring=\"accuracy\", cv=5, n_jobs=-1).mean()\n"
   ]
  },
  {
   "cell_type": "markdown",
   "metadata": {},
   "source": [
    "\\+ 0.015 к accuracy после очистки данных"
   ]
  },
  {
   "cell_type": "markdown",
   "metadata": {},
   "source": [
    "И еще одно возможное улучшение, которое напрашивается в фазу препроцессинга - это"
   ]
  },
  {
   "cell_type": "markdown",
   "metadata": {},
   "source": [
    "### Стемминг"
   ]
  },
  {
   "cell_type": "code",
   "execution_count": 15,
   "metadata": {
    "collapsed": true
   },
   "outputs": [],
   "source": [
    "from nltk.stem.snowball import RussianStemmer\n",
    "\n",
    "stemmer = RussianStemmer()\n",
    "\n",
    "def stem_all_words(name: str):\n",
    "    return \" \".join([stemmer.stem(token) for token in name.split()])\n",
    "\n",
    "dataset_names_stemmed = dataset_names_cleansed.apply(stem_all_words)\n"
   ]
  },
  {
   "cell_type": "code",
   "execution_count": 16,
   "metadata": {},
   "outputs": [
    {
     "data": {
      "text/plain": [
       "0.8975361380109307"
      ]
     },
     "execution_count": 16,
     "metadata": {},
     "output_type": "execute_result"
    }
   ],
   "source": [
    "cross_val_score(pipeline_tfidf_svm, dataset_names_stemmed, dataset[\"tare\"], scoring=\"accuracy\", cv=5, n_jobs=-1).mean()"
   ]
  },
  {
   "cell_type": "markdown",
   "metadata": {},
   "source": [
    "Улучшение совсем небольшое, но все же есть (+ 0.001 к accuracy)"
   ]
  },
  {
   "cell_type": "markdown",
   "metadata": {},
   "source": [
    "# 4. Confusion Matrix"
   ]
  },
  {
   "cell_type": "markdown",
   "metadata": {},
   "source": [
    "Итак, лучшая модель в итоге следующая:\n",
    "1. Очистить названия товаров с помощью `cleanse_product_name`\n",
    "2. Произвести стемминг\n",
    "3. \n",
    "```python\n",
    "TfidfVectorizer(ngram_range=(1, 2), token_pattern=r\"(?u)\\b\\w+\\b\", use_idf=True)\n",
    "SGDClassifier(loss='hinge', penalty='l2', alpha=0.00001, random_state=0, max_iter=15, class_weight=None)\n",
    "```"
   ]
  },
  {
   "cell_type": "markdown",
   "metadata": {},
   "source": [
    "Это можно записать одним Pipeline'ом:"
   ]
  },
  {
   "cell_type": "code",
   "execution_count": 17,
   "metadata": {
    "collapsed": true
   },
   "outputs": [],
   "source": [
    "pipeline_tfidf_svm_prep = Pipeline(\n",
    "    [('tfidf', TfidfVectorizer(preprocessor=lambda name: stem_all_words(cleanse_product_name(name)),\n",
    "                               ngram_range=(1, 2), token_pattern=r\"(?u)\\b\\w+\\b\", use_idf=True)),\n",
    "     ('svm', SGDClassifier(loss='hinge', penalty='l2', alpha=0.00001,\n",
    "                           random_state=0, max_iter=15, class_weight=None)),\n",
    "     ])\n"
   ]
  },
  {
   "cell_type": "markdown",
   "metadata": {},
   "source": [
    "Построим confusion_matrix для нашего первоначального train_test разбиения:\n"
   ]
  },
  {
   "cell_type": "code",
   "execution_count": 18,
   "metadata": {
    "collapsed": true
   },
   "outputs": [],
   "source": [
    "test_classes_counts = test_part[\"tare\"].value_counts()\n",
    "test_classes_names = np.array(test_classes_counts.index)\n",
    "total_classes = len(test_classes_counts)"
   ]
  },
  {
   "cell_type": "code",
   "execution_count": 19,
   "metadata": {},
   "outputs": [
    {
     "data": {
      "text/plain": [
       "0.8952029520295203"
      ]
     },
     "execution_count": 19,
     "metadata": {},
     "output_type": "execute_result"
    }
   ],
   "source": [
    "pipeline_tfidf_svm_prep.fit(train_part[\"name\"], train_part[\"tare\"])\n",
    "\n",
    "predicted = pipeline_tfidf_svm_prep.predict(test_part[\"name\"])\n",
    "np.mean(predicted == test_part[\"tare\"])\n"
   ]
  },
  {
   "cell_type": "code",
   "execution_count": 20,
   "metadata": {},
   "outputs": [
    {
     "data": {
      "text/plain": [
       "array([[1638,    6,   27,   38,   39,    2,    8,    1,    6,   17,    2,\n",
       "           2,    3,    3,    9,    1,    1,    2,    0,    1,    0],\n",
       "       [   2, 1471,    2,   10,    0,    3,    2,    5,    0,    0,    0,\n",
       "           0,    0,    0,    0,    0,    0,    0,    0,    0,    0],\n",
       "       [  41,    7,  730,    8,    7,    8,    4,    1,    1,    4,   12,\n",
       "           3,    2,    1,    3,    1,    2,    1,    0,    0,    3],\n",
       "       [  54,    8,    4,  607,    9,    5,    1,    0,    2,    4,    1,\n",
       "           0,    2,    1,    0,    0,    0,    1,    0,    1,    0],\n",
       "       [  64,    4,    8,    9,  535,    4,    1,    0,    4,    4,    1,\n",
       "           1,    2,    0,    0,    4,    0,    1,    1,    0,    0],\n",
       "       [   2,    1,    3,    2,    1,  426,    3,    3,    2,    0,    1,\n",
       "           0,    0,    2,    0,    1,    0,    0,    1,    0,    0],\n",
       "       [   5,    4,    0,    3,    6,    0,  393,    1,    0,    0,    0,\n",
       "           0,    1,    1,    0,    0,    0,    0,    0,    0,    0],\n",
       "       [   5,    5,    1,    2,    0,    9,    0,  345,    0,    0,    0,\n",
       "           0,    0,    0,    0,    0,    0,    0,    0,    0,    0],\n",
       "       [   4,    0,    1,    0,    1,    4,    0,    1,  188,    0,    1,\n",
       "           0,    7,    0,    0,    4,    0,    0,    3,    0,    0],\n",
       "       [  34,    2,    1,    2,    9,    1,    3,    1,    0,  143,    2,\n",
       "           0,    0,    0,    0,    0,    0,    0,    1,    0,    0],\n",
       "       [   6,    0,    8,    0,    5,    4,    0,    0,    2,    0,  135,\n",
       "           0,    7,    0,    0,    1,    5,    0,    2,    0,    2],\n",
       "       [   2,    1,   13,    3,    9,    0,    1,    0,    0,    0,    0,\n",
       "         108,    0,    0,    0,    0,    0,    0,    1,    0,    0],\n",
       "       [   9,    1,    3,    0,    1,    1,    3,    1,    1,    1,    2,\n",
       "           0,  102,    0,    0,    0,    1,    0,    0,    0,    0],\n",
       "       [   0,    0,    0,    2,    1,    1,    1,    1,    1,    0,    0,\n",
       "           0,    0,  111,    0,    0,    0,    0,    0,    0,    0],\n",
       "       [  15,    2,    7,    3,    5,    0,    1,    0,    1,    1,    1,\n",
       "           1,    1,    0,   44,    0,    0,    0,    0,    0,    2],\n",
       "       [   0,    0,    0,    0,    3,    1,    0,    0,    9,    0,    0,\n",
       "           0,    0,    0,    0,   66,    0,    0,    0,    0,    0],\n",
       "       [   1,    0,   11,    1,    0,    0,    0,    0,    0,    0,    0,\n",
       "           0,    0,    0,    0,    0,   51,    0,    0,    0,    1],\n",
       "       [   5,    0,    1,    0,    2,    0,    0,    0,    1,    0,    1,\n",
       "           1,    0,    0,    2,    0,    0,   51,    0,    0,    0],\n",
       "       [   0,    0,    1,    0,    0,    0,    0,    0,    2,    0,    0,\n",
       "           0,    1,    0,    0,    2,    0,    0,   52,    0,    0],\n",
       "       [   2,    0,    2,    0,    0,    1,    1,    0,    1,    0,    0,\n",
       "           0,    0,    0,    0,    0,    0,    0,    0,   44,    0],\n",
       "       [   1,    0,    2,    0,    1,    0,    0,    0,    0,    0,    2,\n",
       "           0,    0,    0,    0,    0,    1,    0,    0,    0,   38]],\n",
       "      dtype=int64)"
      ]
     },
     "execution_count": 20,
     "metadata": {},
     "output_type": "execute_result"
    }
   ],
   "source": [
    "from sklearn.metrics import confusion_matrix\n",
    "\n",
    "cm = confusion_matrix(y_true=test_part[\"tare\"], y_pred=predicted, labels=test_classes_names)\n",
    "cm"
   ]
  },
  {
   "cell_type": "markdown",
   "metadata": {},
   "source": [
    "Для каждого типа упаковки выведем наиболее популярные предсказания (>=5% случаев)"
   ]
  },
  {
   "cell_type": "code",
   "execution_count": 21,
   "metadata": {},
   "outputs": [
    {
     "name": "stdout",
     "output_type": "stream",
     "text": [
      "Для настоящей упаковки \"пакет без формы\" (1806 тестовых экземпляров) были предложены:\n",
      "\t\"пакет без формы\" в 90.70 % случаев (1638 раз)\n",
      "Для настоящей упаковки \"бутылка\" (1495 тестовых экземпляров) были предложены:\n",
      "\t\"бутылка\" в 98.39 % случаев (1471 раз)\n",
      "Для настоящей упаковки \"коробка\" (839 тестовых экземпляров) были предложены:\n",
      "\t\"коробка\" в 87.01 % случаев (730 раз)\n",
      "Для настоящей упаковки \"пакет прямоугольный\" (700 тестовых экземпляров) были предложены:\n",
      "\t\"пакет без формы\" в 7.71 % случаев (54 раз)\n",
      "\t\"пакет прямоугольный\" в 86.71 % случаев (607 раз)\n",
      "Для настоящей упаковки \"обертка\" (643 тестовых экземпляров) были предложены:\n",
      "\t\"пакет без формы\" в 9.95 % случаев (64 раз)\n",
      "\t\"обертка\" в 83.20 % случаев (535 раз)\n",
      "Для настоящей упаковки \"банка неметаллическая\" (448 тестовых экземпляров) были предложены:\n",
      "\t\"банка неметаллическая\" в 95.09 % случаев (426 раз)\n",
      "Для настоящей упаковки \"стаканчик\" (414 тестовых экземпляров) были предложены:\n",
      "\t\"стаканчик\" в 94.93 % случаев (393 раз)\n",
      "Для настоящей упаковки \"банка металлическая\" (367 тестовых экземпляров) были предложены:\n",
      "\t\"банка металлическая\" в 94.01 % случаев (345 раз)\n",
      "Для настоящей упаковки \"вакуумная упаковка\" (214 тестовых экземпляров) были предложены:\n",
      "\t\"вакуумная упаковка\" в 87.85 % случаев (188 раз)\n",
      "Для настоящей упаковки \"усадочная упаковка\" (199 тестовых экземпляров) были предложены:\n",
      "\t\"пакет без формы\" в 17.09 % случаев (34 раз)\n",
      "\t\"усадочная упаковка\" в 71.86 % случаев (143 раз)\n",
      "Для настоящей упаковки \"контейнер\" (177 тестовых экземпляров) были предложены:\n",
      "\t\"контейнер\" в 76.27 % случаев (135 раз)\n",
      "Для настоящей упаковки \"пачка\" (138 тестовых экземпляров) были предложены:\n",
      "\t\"коробка\" в 9.42 % случаев (13 раз)\n",
      "\t\"обертка\" в 6.52 % случаев (9 раз)\n",
      "\t\"пачка\" в 78.26 % случаев (108 раз)\n",
      "Для настоящей упаковки \"лоток\" (126 тестовых экземпляров) были предложены:\n",
      "\t\"пакет без формы\" в 7.14 % случаев (9 раз)\n",
      "\t\"лоток\" в 80.95 % случаев (102 раз)\n",
      "Для настоящей упаковки \"туба\" (118 тестовых экземпляров) были предложены:\n",
      "\t\"туба\" в 94.07 % случаев (111 раз)\n",
      "Для настоящей упаковки \"гофрокороб\" (84 тестовых экземпляров) были предложены:\n",
      "\t\"пакет без формы\" в 17.86 % случаев (15 раз)\n",
      "\t\"коробка\" в 8.33 % случаев (7 раз)\n",
      "\t\"обертка\" в 5.95 % случаев (5 раз)\n",
      "\t\"гофрокороб\" в 52.38 % случаев (44 раз)\n",
      "Для настоящей упаковки \"колбасная оболочка\" (79 тестовых экземпляров) были предложены:\n",
      "\t\"вакуумная упаковка\" в 11.39 % случаев (9 раз)\n",
      "\t\"колбасная оболочка\" в 83.54 % случаев (66 раз)\n",
      "Для настоящей упаковки \"тортница\" (65 тестовых экземпляров) были предложены:\n",
      "\t\"коробка\" в 16.92 % случаев (11 раз)\n",
      "\t\"тортница\" в 78.46 % случаев (51 раз)\n",
      "Для настоящей упаковки \"без упаковки\" (64 тестовых экземпляров) были предложены:\n",
      "\t\"пакет без формы\" в 7.81 % случаев (5 раз)\n",
      "\t\"без упаковки\" в 79.69 % случаев (51 раз)\n",
      "Для настоящей упаковки \"упаковка с газовым наполнением\" (58 тестовых экземпляров) были предложены:\n",
      "\t\"упаковка с газовым наполнением\" в 89.66 % случаев (52 раз)\n",
      "Для настоящей упаковки \"ведро\" (51 тестовых экземпляров) были предложены:\n",
      "\t\"ведро\" в 86.27 % случаев (44 раз)\n",
      "Для настоящей упаковки \"ячеистая упаковка\" (45 тестовых экземпляров) были предложены:\n",
      "\t\"ячеистая упаковка\" в 84.44 % случаев (38 раз)\n"
     ]
    }
   ],
   "source": [
    "for true_class_id in range(total_classes):\n",
    "    true_class_name = test_classes_names[true_class_id]\n",
    "    true_class_count = test_classes_counts[true_class_name]\n",
    "    \n",
    "    print('Для настоящей упаковки \"{0}\" ({1} тестовых экземпляров) были предложены:'.format(true_class_name, true_class_count))\n",
    "    for pred_class_id in range(total_classes):\n",
    "        percent = cm[true_class_id, pred_class_id] / true_class_count * 100\n",
    "        if percent >= 5:\n",
    "            pred_class_name = test_classes_names[pred_class_id]\n",
    "            print('\\t\"{0}\" в {1:.2f} % случаев ({2} раз)'.format(pred_class_name, percent, cm[true_class_id, pred_class_id]))\n"
   ]
  },
  {
   "cell_type": "markdown",
   "metadata": {},
   "source": [
    "## 5. Предсказание для test.csv"
   ]
  },
  {
   "cell_type": "code",
   "execution_count": 22,
   "metadata": {
    "collapsed": true
   },
   "outputs": [],
   "source": [
    "test_csv_data = pd.read_csv(\"test.csv\")"
   ]
  },
  {
   "cell_type": "code",
   "execution_count": 23,
   "metadata": {
    "collapsed": true
   },
   "outputs": [
    {
     "data": {
      "text/plain": [
       "Pipeline(memory=None,\n",
       "     steps=[('tfidf', TfidfVectorizer(analyzer='word', binary=False, decode_error='strict',\n",
       "        dtype=<class 'numpy.int64'>, encoding='utf-8', input='content',\n",
       "        lowercase=True, max_df=1.0, max_features=None, min_df=1,\n",
       "        ngram_range=(1, 2), norm='l2',\n",
       "        preprocessor=<function <lambd...lty='l2', power_t=0.5, random_state=0, shuffle=True,\n",
       "       tol=None, verbose=0, warm_start=False))])"
      ]
     },
     "execution_count": 23,
     "metadata": {},
     "output_type": "execute_result"
    }
   ],
   "source": [
    "pipeline_tfidf_svm_prep = Pipeline(\n",
    "    [('tfidf', TfidfVectorizer(preprocessor=lambda name: stem_all_words(cleanse_product_name(name)),\n",
    "                               ngram_range=(1, 2), token_pattern=r\"(?u)\\b\\w+\\b\", use_idf=True)),\n",
    "     ('svm', SGDClassifier(loss='hinge', penalty='l2', alpha=0.00001,\n",
    "                           random_state=0, max_iter=15, class_weight=None)),\n",
    "     ])\n",
    "\n",
    "pipeline_tfidf_svm_prep.fit(dataset[\"name\"], dataset[\"tare\"])"
   ]
  },
  {
   "cell_type": "code",
   "execution_count": 24,
   "metadata": {
    "collapsed": true
   },
   "outputs": [
    {
     "data": {
      "text/html": [
       "<div>\n",
       "<style scoped>\n",
       "    .dataframe tbody tr th:only-of-type {\n",
       "        vertical-align: middle;\n",
       "    }\n",
       "\n",
       "    .dataframe tbody tr th {\n",
       "        vertical-align: top;\n",
       "    }\n",
       "\n",
       "    .dataframe thead th {\n",
       "        text-align: right;\n",
       "    }\n",
       "</style>\n",
       "<table border=\"1\" class=\"dataframe\">\n",
       "  <thead>\n",
       "    <tr style=\"text-align: right;\">\n",
       "      <th></th>\n",
       "      <th>id</th>\n",
       "      <th>name</th>\n",
       "    </tr>\n",
       "  </thead>\n",
       "  <tbody>\n",
       "    <tr>\n",
       "      <th>0</th>\n",
       "      <td>40648</td>\n",
       "      <td>бутылка</td>\n",
       "    </tr>\n",
       "    <tr>\n",
       "      <th>1</th>\n",
       "      <td>40649</td>\n",
       "      <td>гофрокороб</td>\n",
       "    </tr>\n",
       "    <tr>\n",
       "      <th>2</th>\n",
       "      <td>40650</td>\n",
       "      <td>коробка</td>\n",
       "    </tr>\n",
       "    <tr>\n",
       "      <th>3</th>\n",
       "      <td>40651</td>\n",
       "      <td>пакет прямоугольный</td>\n",
       "    </tr>\n",
       "    <tr>\n",
       "      <th>4</th>\n",
       "      <td>40652</td>\n",
       "      <td>пачка</td>\n",
       "    </tr>\n",
       "  </tbody>\n",
       "</table>\n",
       "</div>"
      ],
      "text/plain": [
       "      id                 name\n",
       "0  40648              бутылка\n",
       "1  40649           гофрокороб\n",
       "2  40650              коробка\n",
       "3  40651  пакет прямоугольный\n",
       "4  40652                пачка"
      ]
     },
     "execution_count": 24,
     "metadata": {},
     "output_type": "execute_result"
    }
   ],
   "source": [
    "predicted_for_test_csv = pipeline_tfidf_svm_prep.predict(test_csv_data[\"name\"])\n",
    "\n",
    "result = pd.DataFrame({\"id\": test_csv_data[\"id\"].values, \"tare\": predicted_for_test_csv})\n",
    "result.head()"
   ]
  },
  {
   "cell_type": "code",
   "execution_count": 25,
   "metadata": {
    "collapsed": true
   },
   "outputs": [],
   "source": [
    "result.to_csv(\"prediction.csv\", index=False)"
   ]
  }
 ],
 "metadata": {
  "kernelspec": {
   "display_name": "Python 3",
   "language": "python",
   "name": "python3"
  },
  "language_info": {
   "codemirror_mode": {
    "name": "ipython",
    "version": 3
   },
   "file_extension": ".py",
   "mimetype": "text/x-python",
   "name": "python",
   "nbconvert_exporter": "python",
   "pygments_lexer": "ipython3",
   "version": "3.6.5"
  }
 },
 "nbformat": 4,
 "nbformat_minor": 2
}
